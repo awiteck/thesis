{
 "cells": [
  {
   "cell_type": "code",
   "execution_count": 8,
   "metadata": {},
   "outputs": [
    {
     "name": "stdout",
     "output_type": "stream",
     "text": [
      "Requirement already satisfied: seaborn in /Users/aidanwiteck/anaconda3/lib/python3.7/site-packages (0.9.0)\n",
      "Requirement already satisfied: numpy>=1.9.3 in /Users/aidanwiteck/anaconda3/lib/python3.7/site-packages (from seaborn) (1.21.6)\n",
      "Requirement already satisfied: scipy>=0.14.0 in /Users/aidanwiteck/anaconda3/lib/python3.7/site-packages (from seaborn) (1.2.1)\n",
      "Requirement already satisfied: pandas>=0.15.2 in /Users/aidanwiteck/anaconda3/lib/python3.7/site-packages (from seaborn) (1.3.5)\n",
      "Requirement already satisfied: matplotlib>=1.4.3 in /Users/aidanwiteck/anaconda3/lib/python3.7/site-packages (from seaborn) (3.0.3)\n",
      "Requirement already satisfied: cycler>=0.10 in /Users/aidanwiteck/anaconda3/lib/python3.7/site-packages (from matplotlib>=1.4.3->seaborn) (0.10.0)\n",
      "Requirement already satisfied: kiwisolver>=1.0.1 in /Users/aidanwiteck/anaconda3/lib/python3.7/site-packages (from matplotlib>=1.4.3->seaborn) (1.0.1)\n",
      "Requirement already satisfied: pyparsing!=2.0.4,!=2.1.2,!=2.1.6,>=2.0.1 in /Users/aidanwiteck/anaconda3/lib/python3.7/site-packages (from matplotlib>=1.4.3->seaborn) (2.3.1)\n",
      "Requirement already satisfied: python-dateutil>=2.1 in /Users/aidanwiteck/anaconda3/lib/python3.7/site-packages (from matplotlib>=1.4.3->seaborn) (2.8.0)\n",
      "Requirement already satisfied: pytz>=2017.3 in /Users/aidanwiteck/anaconda3/lib/python3.7/site-packages (from pandas>=0.15.2->seaborn) (2019.3)\n",
      "Requirement already satisfied: six in /Users/aidanwiteck/anaconda3/lib/python3.7/site-packages (from cycler>=0.10->matplotlib>=1.4.3->seaborn) (1.12.0)\n",
      "Requirement already satisfied: setuptools in /Users/aidanwiteck/anaconda3/lib/python3.7/site-packages (from kiwisolver>=1.0.1->matplotlib>=1.4.3->seaborn) (40.8.0)\n"
     ]
    }
   ],
   "source": [
    "!pip install seaborn"
   ]
  },
  {
   "cell_type": "code",
   "execution_count": 9,
   "metadata": {},
   "outputs": [
    {
     "ename": "ModuleNotFoundError",
     "evalue": "No module named 'seaborn'",
     "output_type": "error",
     "traceback": [
      "\u001b[0;31m---------------------------------------------------------------------------\u001b[0m",
      "\u001b[0;31mModuleNotFoundError\u001b[0m                       Traceback (most recent call last)",
      "Cell \u001b[0;32mIn[9], line 3\u001b[0m\n\u001b[1;32m      1\u001b[0m \u001b[38;5;28;01mimport\u001b[39;00m \u001b[38;5;21;01mpandas\u001b[39;00m \u001b[38;5;28;01mas\u001b[39;00m \u001b[38;5;21;01mpd\u001b[39;00m\n\u001b[1;32m      2\u001b[0m \u001b[38;5;28;01mimport\u001b[39;00m \u001b[38;5;21;01mnumpy\u001b[39;00m \u001b[38;5;28;01mas\u001b[39;00m \u001b[38;5;21;01mnp\u001b[39;00m\n\u001b[0;32m----> 3\u001b[0m \u001b[38;5;28;01mimport\u001b[39;00m \u001b[38;5;21;01mseaborn\u001b[39;00m \u001b[38;5;28;01mas\u001b[39;00m \u001b[38;5;21;01msns\u001b[39;00m\n\u001b[1;32m      4\u001b[0m \u001b[38;5;28;01mimport\u001b[39;00m \u001b[38;5;21;01mmatplotlib\u001b[39;00m\u001b[38;5;21;01m.\u001b[39;00m\u001b[38;5;21;01mpyplot\u001b[39;00m \u001b[38;5;28;01mas\u001b[39;00m \u001b[38;5;21;01mplt\u001b[39;00m\n",
      "\u001b[0;31mModuleNotFoundError\u001b[0m: No module named 'seaborn'"
     ]
    }
   ],
   "source": [
    "import pandas as pd\n",
    "import numpy as np\n",
    "import seaborn as sns\n",
    "import matplotlib.pyplot as plt"
   ]
  },
  {
   "cell_type": "code",
   "execution_count": 4,
   "metadata": {},
   "outputs": [
    {
     "data": {
      "text/html": [
       "<div>\n",
       "<style scoped>\n",
       "    .dataframe tbody tr th:only-of-type {\n",
       "        vertical-align: middle;\n",
       "    }\n",
       "\n",
       "    .dataframe tbody tr th {\n",
       "        vertical-align: top;\n",
       "    }\n",
       "\n",
       "    .dataframe thead th {\n",
       "        text-align: right;\n",
       "    }\n",
       "</style>\n",
       "<table border=\"1\" class=\"dataframe\">\n",
       "  <thead>\n",
       "    <tr style=\"text-align: right;\">\n",
       "      <th></th>\n",
       "      <th>timestamp</th>\n",
       "      <th>Demand (MWh)</th>\n",
       "      <th>Demand Forecast (MWh)</th>\n",
       "      <th>Net Generation (MWh)</th>\n",
       "      <th>Region</th>\n",
       "      <th>Normalized Demand</th>\n",
       "      <th>temperature</th>\n",
       "      <th>humidity</th>\n",
       "      <th>cloudcover</th>\n",
       "      <th>windspeed</th>\n",
       "      <th>day_of_week</th>\n",
       "      <th>hour</th>\n",
       "    </tr>\n",
       "  </thead>\n",
       "  <tbody>\n",
       "    <tr>\n",
       "      <th>0</th>\n",
       "      <td>2015-07-01 01:00:00</td>\n",
       "      <td>2513.0</td>\n",
       "      <td>2226.0</td>\n",
       "      <td>1559.0</td>\n",
       "      <td>banc</td>\n",
       "      <td>0.537190</td>\n",
       "      <td>38.5</td>\n",
       "      <td>18</td>\n",
       "      <td>10</td>\n",
       "      <td>8.7</td>\n",
       "      <td>2</td>\n",
       "      <td>1</td>\n",
       "    </tr>\n",
       "    <tr>\n",
       "      <th>1</th>\n",
       "      <td>2015-07-01 02:00:00</td>\n",
       "      <td>2275.0</td>\n",
       "      <td>2035.0</td>\n",
       "      <td>1441.0</td>\n",
       "      <td>banc</td>\n",
       "      <td>0.279477</td>\n",
       "      <td>37.7</td>\n",
       "      <td>19</td>\n",
       "      <td>12</td>\n",
       "      <td>10.4</td>\n",
       "      <td>2</td>\n",
       "      <td>2</td>\n",
       "    </tr>\n",
       "    <tr>\n",
       "      <th>2</th>\n",
       "      <td>2015-07-01 03:00:00</td>\n",
       "      <td>2104.0</td>\n",
       "      <td>1897.0</td>\n",
       "      <td>1399.0</td>\n",
       "      <td>banc</td>\n",
       "      <td>0.094315</td>\n",
       "      <td>35.4</td>\n",
       "      <td>23</td>\n",
       "      <td>11</td>\n",
       "      <td>10.7</td>\n",
       "      <td>2</td>\n",
       "      <td>3</td>\n",
       "    </tr>\n",
       "    <tr>\n",
       "      <th>3</th>\n",
       "      <td>2015-07-01 04:00:00</td>\n",
       "      <td>1988.0</td>\n",
       "      <td>1821.0</td>\n",
       "      <td>1354.0</td>\n",
       "      <td>banc</td>\n",
       "      <td>-0.031293</td>\n",
       "      <td>32.5</td>\n",
       "      <td>27</td>\n",
       "      <td>16</td>\n",
       "      <td>11.4</td>\n",
       "      <td>2</td>\n",
       "      <td>4</td>\n",
       "    </tr>\n",
       "    <tr>\n",
       "      <th>4</th>\n",
       "      <td>2015-07-01 05:00:00</td>\n",
       "      <td>1958.0</td>\n",
       "      <td>1811.0</td>\n",
       "      <td>1334.0</td>\n",
       "      <td>banc</td>\n",
       "      <td>-0.063778</td>\n",
       "      <td>30.3</td>\n",
       "      <td>31</td>\n",
       "      <td>21</td>\n",
       "      <td>9.0</td>\n",
       "      <td>2</td>\n",
       "      <td>5</td>\n",
       "    </tr>\n",
       "  </tbody>\n",
       "</table>\n",
       "</div>"
      ],
      "text/plain": [
       "             timestamp  Demand (MWh)  Demand Forecast (MWh)  \\\n",
       "0  2015-07-01 01:00:00        2513.0                 2226.0   \n",
       "1  2015-07-01 02:00:00        2275.0                 2035.0   \n",
       "2  2015-07-01 03:00:00        2104.0                 1897.0   \n",
       "3  2015-07-01 04:00:00        1988.0                 1821.0   \n",
       "4  2015-07-01 05:00:00        1958.0                 1811.0   \n",
       "\n",
       "   Net Generation (MWh) Region  Normalized Demand  temperature  humidity  \\\n",
       "0                1559.0   banc           0.537190         38.5        18   \n",
       "1                1441.0   banc           0.279477         37.7        19   \n",
       "2                1399.0   banc           0.094315         35.4        23   \n",
       "3                1354.0   banc          -0.031293         32.5        27   \n",
       "4                1334.0   banc          -0.063778         30.3        31   \n",
       "\n",
       "   cloudcover  windspeed  day_of_week  hour  \n",
       "0          10        8.7            2     1  \n",
       "1          12       10.4            2     2  \n",
       "2          11       10.7            2     3  \n",
       "3          16       11.4            2     4  \n",
       "4          21        9.0            2     5  "
      ]
     },
     "execution_count": 4,
     "metadata": {},
     "output_type": "execute_result"
    }
   ],
   "source": [
    "df = pd.read_csv(\"../data/final_tables/banc/banc.csv\")\n",
    "df.head()"
   ]
  },
  {
   "cell_type": "code",
   "execution_count": 6,
   "metadata": {},
   "outputs": [
    {
     "ename": "NameError",
     "evalue": "name 'plt' is not defined",
     "output_type": "error",
     "traceback": [
      "\u001b[0;31m---------------------------------------------------------------------------\u001b[0m",
      "\u001b[0;31mNameError\u001b[0m                                 Traceback (most recent call last)",
      "Cell \u001b[0;32mIn[6], line 15\u001b[0m\n\u001b[1;32m     12\u001b[0m correlation_matrix \u001b[38;5;241m=\u001b[39m correlation_matrix\u001b[38;5;241m.\u001b[39mastype(\u001b[38;5;28mfloat\u001b[39m)\n\u001b[1;32m     14\u001b[0m \u001b[38;5;66;03m# Plotting the heatmap\u001b[39;00m\n\u001b[0;32m---> 15\u001b[0m \u001b[43mplt\u001b[49m\u001b[38;5;241m.\u001b[39mfigure(figsize\u001b[38;5;241m=\u001b[39m(\u001b[38;5;241m10\u001b[39m, \u001b[38;5;241m8\u001b[39m))\n\u001b[1;32m     16\u001b[0m sns\u001b[38;5;241m.\u001b[39mheatmap(correlation_matrix, annot\u001b[38;5;241m=\u001b[39m\u001b[38;5;28;01mTrue\u001b[39;00m, cmap\u001b[38;5;241m=\u001b[39m\u001b[38;5;124m'\u001b[39m\u001b[38;5;124mcoolwarm\u001b[39m\u001b[38;5;124m'\u001b[39m)\n\u001b[1;32m     17\u001b[0m plt\u001b[38;5;241m.\u001b[39mtitle(\u001b[38;5;124m'\u001b[39m\u001b[38;5;124mHourly Load Value Correlation Heatmap\u001b[39m\u001b[38;5;124m'\u001b[39m)\n",
      "\u001b[0;31mNameError\u001b[0m: name 'plt' is not defined"
     ]
    }
   ],
   "source": [
    "# Prepare a DataFrame to store correlations\n",
    "correlation_matrix = pd.DataFrame(index=range(24), columns=range(24))\n",
    "\n",
    "# Calculate correlations\n",
    "for i in range(24):\n",
    "    for j in range(24):\n",
    "        hourly_data_i = df[df['hour'] == i]['Demand (MWh)']\n",
    "        hourly_data_j = df[df['hour'] == j]['Demand (MWh)']\n",
    "        correlation_matrix.loc[i, j] = hourly_data_i.corr(hourly_data_j)\n",
    "\n",
    "# Convert the correlation matrix to numeric for plotting\n",
    "correlation_matrix = correlation_matrix.astype(float)\n",
    "\n",
    "# Plotting the heatmap\n",
    "plt.figure(figsize=(10, 8))\n",
    "sns.heatmap(correlation_matrix, annot=True, cmap='coolwarm')\n",
    "plt.title('Hourly Load Value Correlation Heatmap')\n",
    "plt.xlabel('Hour of the Day')\n",
    "plt.ylabel('Hour of the Day')\n",
    "plt.show()\n"
   ]
  },
  {
   "cell_type": "code",
   "execution_count": null,
   "metadata": {},
   "outputs": [],
   "source": []
  }
 ],
 "metadata": {
  "kernelspec": {
   "display_name": "Thesis",
   "language": "python",
   "name": "envname"
  },
  "language_info": {
   "codemirror_mode": {
    "name": "ipython",
    "version": 3
   },
   "file_extension": ".py",
   "mimetype": "text/x-python",
   "name": "python",
   "nbconvert_exporter": "python",
   "pygments_lexer": "ipython3",
   "version": "3.10.7"
  },
  "toc": {
   "base_numbering": 1,
   "nav_menu": {},
   "number_sections": true,
   "sideBar": true,
   "skip_h1_title": false,
   "title_cell": "Table of Contents",
   "title_sidebar": "Contents",
   "toc_cell": false,
   "toc_position": {},
   "toc_section_display": true,
   "toc_window_display": false
  }
 },
 "nbformat": 4,
 "nbformat_minor": 2
}
