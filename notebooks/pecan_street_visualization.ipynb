{
 "cells": [
  {
   "cell_type": "code",
   "execution_count": 24,
   "metadata": {},
   "outputs": [],
   "source": [
    "import os\n",
    "import pandas as pd\n",
    "import matplotlib.pyplot as plt\n",
    "import seaborn as sns"
   ]
  },
  {
   "cell_type": "code",
   "execution_count": 47,
   "metadata": {},
   "outputs": [],
   "source": [
    "# This constant limits the number of rows read in from the big CSV file.\n",
    "# Set to None if you want to read the whole thing\n",
    "LIMIT = None"
   ]
  },
  {
   "cell_type": "code",
   "execution_count": 48,
   "metadata": {},
   "outputs": [],
   "source": [
    "path = \"../data/pecanstreet/15minute_data_austin/\""
   ]
  },
  {
   "cell_type": "code",
   "execution_count": 49,
   "metadata": {},
   "outputs": [],
   "source": [
    "# read the 15 minute data file for California\n",
    "all_data = pd.read_csv(path+\"15minute_data_austin.csv\", engine='python', encoding=\"ISO-8859-1\",\n",
    "                                  parse_dates=['local_15min'], index_col=['local_15min'],\n",
    "                                  usecols=['dataid', 'local_15min', 'grid'],\n",
    "                                  nrows=LIMIT)"
   ]
  },
  {
   "cell_type": "code",
   "execution_count": 50,
   "metadata": {},
   "outputs": [],
   "source": [
    "# read in the metadata file, skip the 2nd row because it has the comments further describing the headers\n",
    "metadata=pd.read_csv(path+\"metadata.csv\", engine='python', encoding=\"ISO-8859-1\", skiprows=[1])"
   ]
  },
  {
   "cell_type": "code",
   "execution_count": 74,
   "metadata": {},
   "outputs": [],
   "source": [
    "# filter down to our houses of interest. Active, Austin-based, has complete data, and has the grid circuit\n",
    "dataids = metadata[metadata.active_record.eq('yes') &\n",
    "                   metadata.city.eq('Austin') &\n",
    "                   metadata.egauge_1min_data_availability.isin(['100%', '99%', '98%', '97%','96%','95%']) &\n",
    "                   metadata.grid.eq('yes')]"
   ]
  },
  {
   "cell_type": "code",
   "execution_count": 75,
   "metadata": {},
   "outputs": [],
   "source": [
    "# filter down to the dataids we're interested in\n",
    "filt = all_data[all_data.dataid.isin(dataids.dataid)]\n",
    "\n",
    "filt.index = pd.to_datetime(filt.index, utc=True, infer_datetime_format=True)\n",
    "filt = filt.tz_convert('US/Central')"
   ]
  },
  {
   "cell_type": "code",
   "execution_count": 76,
   "metadata": {
    "scrolled": true
   },
   "outputs": [
    {
     "name": "stdout",
     "output_type": "stream",
     "text": [
      "              dataid           grid\n",
      "count  558367.000000  555685.000000\n",
      "mean     4799.416565       0.887309\n",
      "std      2574.876683       1.759743\n",
      "min       661.000000      -4.873000\n",
      "25%      3039.000000       0.271000\n",
      "50%      4373.000000       0.620000\n",
      "75%      7719.000000       1.562000\n",
      "max      9922.000000      15.522000\n"
     ]
    }
   ],
   "source": [
    "print(filt.describe())"
   ]
  },
  {
   "cell_type": "code",
   "execution_count": 77,
   "metadata": {},
   "outputs": [
    {
     "data": {
      "text/html": [
       "<div>\n",
       "<style scoped>\n",
       "    .dataframe tbody tr th:only-of-type {\n",
       "        vertical-align: middle;\n",
       "    }\n",
       "\n",
       "    .dataframe tbody tr th {\n",
       "        vertical-align: top;\n",
       "    }\n",
       "\n",
       "    .dataframe thead th {\n",
       "        text-align: right;\n",
       "    }\n",
       "</style>\n",
       "<table border=\"1\" class=\"dataframe\">\n",
       "  <thead>\n",
       "    <tr style=\"text-align: right;\">\n",
       "      <th></th>\n",
       "      <th>dataid</th>\n",
       "      <th>grid</th>\n",
       "    </tr>\n",
       "    <tr>\n",
       "      <th>local_15min</th>\n",
       "      <th></th>\n",
       "      <th></th>\n",
       "    </tr>\n",
       "  </thead>\n",
       "  <tbody>\n",
       "    <tr>\n",
       "      <th>2018-11-21 15:15:00-06:00</th>\n",
       "      <td>661</td>\n",
       "      <td>0.124</td>\n",
       "    </tr>\n",
       "    <tr>\n",
       "      <th>2018-11-21 15:30:00-06:00</th>\n",
       "      <td>661</td>\n",
       "      <td>0.251</td>\n",
       "    </tr>\n",
       "    <tr>\n",
       "      <th>2018-11-21 15:45:00-06:00</th>\n",
       "      <td>661</td>\n",
       "      <td>0.419</td>\n",
       "    </tr>\n",
       "    <tr>\n",
       "      <th>2018-11-21 16:00:00-06:00</th>\n",
       "      <td>661</td>\n",
       "      <td>0.833</td>\n",
       "    </tr>\n",
       "    <tr>\n",
       "      <th>2018-11-21 16:15:00-06:00</th>\n",
       "      <td>661</td>\n",
       "      <td>1.105</td>\n",
       "    </tr>\n",
       "    <tr>\n",
       "      <th>...</th>\n",
       "      <td>...</td>\n",
       "      <td>...</td>\n",
       "    </tr>\n",
       "    <tr>\n",
       "      <th>2018-12-31 22:45:00-06:00</th>\n",
       "      <td>9922</td>\n",
       "      <td>1.238</td>\n",
       "    </tr>\n",
       "    <tr>\n",
       "      <th>2018-12-31 23:00:00-06:00</th>\n",
       "      <td>9922</td>\n",
       "      <td>1.211</td>\n",
       "    </tr>\n",
       "    <tr>\n",
       "      <th>2018-12-31 23:15:00-06:00</th>\n",
       "      <td>9922</td>\n",
       "      <td>1.045</td>\n",
       "    </tr>\n",
       "    <tr>\n",
       "      <th>2018-12-31 23:30:00-06:00</th>\n",
       "      <td>9922</td>\n",
       "      <td>1.022</td>\n",
       "    </tr>\n",
       "    <tr>\n",
       "      <th>2018-12-31 23:45:00-06:00</th>\n",
       "      <td>9922</td>\n",
       "      <td>1.205</td>\n",
       "    </tr>\n",
       "  </tbody>\n",
       "</table>\n",
       "<p>558367 rows × 2 columns</p>\n",
       "</div>"
      ],
      "text/plain": [
       "                           dataid   grid\n",
       "local_15min                             \n",
       "2018-11-21 15:15:00-06:00     661  0.124\n",
       "2018-11-21 15:30:00-06:00     661  0.251\n",
       "2018-11-21 15:45:00-06:00     661  0.419\n",
       "2018-11-21 16:00:00-06:00     661  0.833\n",
       "2018-11-21 16:15:00-06:00     661  1.105\n",
       "...                           ...    ...\n",
       "2018-12-31 22:45:00-06:00    9922  1.238\n",
       "2018-12-31 23:00:00-06:00    9922  1.211\n",
       "2018-12-31 23:15:00-06:00    9922  1.045\n",
       "2018-12-31 23:30:00-06:00    9922  1.022\n",
       "2018-12-31 23:45:00-06:00    9922  1.205\n",
       "\n",
       "[558367 rows x 2 columns]"
      ]
     },
     "execution_count": 77,
     "metadata": {},
     "output_type": "execute_result"
    }
   ],
   "source": [
    "filt"
   ]
  },
  {
   "cell_type": "code",
   "execution_count": 64,
   "metadata": {},
   "outputs": [],
   "source": [
    "# group the data by days and take the mean of those\n",
    "days = filt.groupby(pd.Grouper(freq='D')).mean()\n",
    "hours = filt.groupby(pd.Grouper(freq='H')).mean()"
   ]
  },
  {
   "cell_type": "code",
   "execution_count": 65,
   "metadata": {},
   "outputs": [],
   "source": [
    "# convert from kW to kWh\n",
    "days['grid_kwh'] = days['grid'].apply(lambda x: x * 24)"
   ]
  },
  {
   "cell_type": "code",
   "execution_count": 66,
   "metadata": {},
   "outputs": [
    {
     "name": "stdout",
     "output_type": "stream",
     "text": [
      "            dataid        grid    grid_kwh\n",
      "count   365.000000  365.000000  365.000000\n",
      "mean   4590.069356    0.863589   20.726131\n",
      "std      48.221271    0.518294   12.439060\n",
      "min    4428.975000   -0.107394   -2.577446\n",
      "25%    4585.642857    0.407384    9.777225\n",
      "50%    4585.642857    0.848360   20.360643\n",
      "75%    4585.642857    1.259249   30.221982\n",
      "max    5092.363636    2.214606   53.150554\n"
     ]
    }
   ],
   "source": [
    "print(days.describe())"
   ]
  },
  {
   "cell_type": "code",
   "execution_count": 67,
   "metadata": {},
   "outputs": [
    {
     "name": "stdout",
     "output_type": "stream",
     "text": [
      "            dataid         grid\n",
      "count  8759.000000  8759.000000\n",
      "mean   4590.240149     0.863839\n",
      "std      53.011366     1.068862\n",
      "min    4344.615385    -2.550982\n",
      "25%    4585.642857     0.477973\n",
      "50%    4585.642857     0.842000\n",
      "75%    4585.642857     1.377375\n",
      "max    5160.545455     4.175768\n"
     ]
    }
   ],
   "source": [
    "print(hours.describe())"
   ]
  },
  {
   "cell_type": "code",
   "execution_count": 59,
   "metadata": {},
   "outputs": [
    {
     "data": {
      "image/png": "[encoded data removed]",
      "text/plain": [
       "<Figure size 792x288 with 1 Axes>"
      ]
     },
     "metadata": {},
     "output_type": "display_data"
    }
   ],
   "source": [
    "# create the plot\n",
    "# Use seaborn style defaults and set the default figure size\n",
    "sns.set(rc={'figure.figsize': (11, 4)})\n",
    "solar_plot = days['grid_kwh'].plot(linewidth=0.5, marker='.')\n",
    "solar_plot.set_xlabel('Date')\n",
    "solar_plot.set_ylabel('Grid Usage kWh')\n",
    "solar_plot.set_title('Average Grid Usage in Austin, TX')\n",
    "\n",
    "# display the plot\n",
    "plt.show()"
   ]
  },
  {
   "cell_type": "code",
   "execution_count": 69,
   "metadata": {},
   "outputs": [
    {
     "data": {
      "image/png": "[encoded data removed]",
      "text/plain": [
       "<Figure size 792x288 with 1 Axes>"
      ]
     },
     "metadata": {},
     "output_type": "display_data"
    }
   ],
   "source": [
    "# create the plot\n",
    "# Use seaborn style defaults and set the default figure size\n",
    "sns.set(rc={'figure.figsize': (11, 4)})\n",
    "solar_plot = hours['grid'][:240].plot(linewidth=0.5, marker='.')\n",
    "solar_plot.set_xlabel('Date')\n",
    "solar_plot.set_ylabel('Grid Usage kWh')\n",
    "solar_plot.set_title('Average Grid Usage in Austin, TX')\n",
    "\n",
    "# display the plot\n",
    "plt.show()"
   ]
  },
  {
   "cell_type": "code",
   "execution_count": 62,
   "metadata": {},
   "outputs": [
    {
     "data": {
      "text/html": [
       "<div>\n",
       "<style scoped>\n",
       "    .dataframe tbody tr th:only-of-type {\n",
       "        vertical-align: middle;\n",
       "    }\n",
       "\n",
       "    .dataframe tbody tr th {\n",
       "        vertical-align: top;\n",
       "    }\n",
       "\n",
       "    .dataframe thead th {\n",
       "        text-align: right;\n",
       "    }\n",
       "</style>\n",
       "<table border=\"1\" class=\"dataframe\">\n",
       "  <thead>\n",
       "    <tr style=\"text-align: right;\">\n",
       "      <th></th>\n",
       "      <th>dataid</th>\n",
       "      <th>grid</th>\n",
       "    </tr>\n",
       "    <tr>\n",
       "      <th>local_15min</th>\n",
       "      <th></th>\n",
       "      <th></th>\n",
       "    </tr>\n",
       "  </thead>\n",
       "  <tbody>\n",
       "    <tr>\n",
       "      <th>2018-01-01 00:00:00-06:00</th>\n",
       "      <td>4585.642857</td>\n",
       "      <td>1.188636</td>\n",
       "    </tr>\n",
       "    <tr>\n",
       "      <th>2018-01-01 01:00:00-06:00</th>\n",
       "      <td>4585.642857</td>\n",
       "      <td>1.218070</td>\n",
       "    </tr>\n",
       "    <tr>\n",
       "      <th>2018-01-01 02:00:00-06:00</th>\n",
       "      <td>4585.642857</td>\n",
       "      <td>1.034154</td>\n",
       "    </tr>\n",
       "    <tr>\n",
       "      <th>2018-01-01 03:00:00-06:00</th>\n",
       "      <td>4585.642857</td>\n",
       "      <td>0.981958</td>\n",
       "    </tr>\n",
       "    <tr>\n",
       "      <th>2018-01-01 04:00:00-06:00</th>\n",
       "      <td>4585.642857</td>\n",
       "      <td>1.034312</td>\n",
       "    </tr>\n",
       "    <tr>\n",
       "      <th>...</th>\n",
       "      <td>...</td>\n",
       "      <td>...</td>\n",
       "    </tr>\n",
       "    <tr>\n",
       "      <th>2018-12-31 19:00:00-06:00</th>\n",
       "      <td>4571.692308</td>\n",
       "      <td>1.253942</td>\n",
       "    </tr>\n",
       "    <tr>\n",
       "      <th>2018-12-31 20:00:00-06:00</th>\n",
       "      <td>4571.692308</td>\n",
       "      <td>1.215442</td>\n",
       "    </tr>\n",
       "    <tr>\n",
       "      <th>2018-12-31 21:00:00-06:00</th>\n",
       "      <td>4571.692308</td>\n",
       "      <td>1.309712</td>\n",
       "    </tr>\n",
       "    <tr>\n",
       "      <th>2018-12-31 22:00:00-06:00</th>\n",
       "      <td>4571.692308</td>\n",
       "      <td>1.110808</td>\n",
       "    </tr>\n",
       "    <tr>\n",
       "      <th>2018-12-31 23:00:00-06:00</th>\n",
       "      <td>4571.692308</td>\n",
       "      <td>0.834865</td>\n",
       "    </tr>\n",
       "  </tbody>\n",
       "</table>\n",
       "<p>8760 rows × 2 columns</p>\n",
       "</div>"
      ],
      "text/plain": [
       "                                dataid      grid\n",
       "local_15min                                     \n",
       "2018-01-01 00:00:00-06:00  4585.642857  1.188636\n",
       "2018-01-01 01:00:00-06:00  4585.642857  1.218070\n",
       "2018-01-01 02:00:00-06:00  4585.642857  1.034154\n",
       "2018-01-01 03:00:00-06:00  4585.642857  0.981958\n",
       "2018-01-01 04:00:00-06:00  4585.642857  1.034312\n",
       "...                                ...       ...\n",
       "2018-12-31 19:00:00-06:00  4571.692308  1.253942\n",
       "2018-12-31 20:00:00-06:00  4571.692308  1.215442\n",
       "2018-12-31 21:00:00-06:00  4571.692308  1.309712\n",
       "2018-12-31 22:00:00-06:00  4571.692308  1.110808\n",
       "2018-12-31 23:00:00-06:00  4571.692308  0.834865\n",
       "\n",
       "[8760 rows x 2 columns]"
      ]
     },
     "execution_count": 62,
     "metadata": {},
     "output_type": "execute_result"
    }
   ],
   "source": [
    "filt.groupby(pd.Grouper(freq='H')).mean()"
   ]
  },
  {
   "cell_type": "code",
   "execution_count": 46,
   "metadata": {},
   "outputs": [
    {
     "data": {
      "text/html": [
       "<div>\n",
       "<style scoped>\n",
       "    .dataframe tbody tr th:only-of-type {\n",
       "        vertical-align: middle;\n",
       "    }\n",
       "\n",
       "    .dataframe tbody tr th {\n",
       "        vertical-align: top;\n",
       "    }\n",
       "\n",
       "    .dataframe thead th {\n",
       "        text-align: right;\n",
       "    }\n",
       "</style>\n",
       "<table border=\"1\" class=\"dataframe\">\n",
       "  <thead>\n",
       "    <tr style=\"text-align: right;\">\n",
       "      <th></th>\n",
       "      <th>dataid</th>\n",
       "      <th>grid</th>\n",
       "    </tr>\n",
       "    <tr>\n",
       "      <th>local_15min</th>\n",
       "      <th></th>\n",
       "      <th></th>\n",
       "    </tr>\n",
       "  </thead>\n",
       "  <tbody>\n",
       "    <tr>\n",
       "      <th>2014-01-01 00:00:00-06:00</th>\n",
       "      <td>3687</td>\n",
       "      <td>1.717</td>\n",
       "    </tr>\n",
       "    <tr>\n",
       "      <th>2014-01-01 00:15:00-06:00</th>\n",
       "      <td>3687</td>\n",
       "      <td>1.905</td>\n",
       "    </tr>\n",
       "    <tr>\n",
       "      <th>2014-01-01 00:30:00-06:00</th>\n",
       "      <td>3687</td>\n",
       "      <td>1.923</td>\n",
       "    </tr>\n",
       "    <tr>\n",
       "      <th>2014-01-01 00:45:00-06:00</th>\n",
       "      <td>3687</td>\n",
       "      <td>1.535</td>\n",
       "    </tr>\n",
       "    <tr>\n",
       "      <th>2014-01-01 01:00:00-06:00</th>\n",
       "      <td>3687</td>\n",
       "      <td>1.010</td>\n",
       "    </tr>\n",
       "    <tr>\n",
       "      <th>...</th>\n",
       "      <td>...</td>\n",
       "      <td>...</td>\n",
       "    </tr>\n",
       "    <tr>\n",
       "      <th>2015-09-30 22:45:00-05:00</th>\n",
       "      <td>6547</td>\n",
       "      <td>0.362</td>\n",
       "    </tr>\n",
       "    <tr>\n",
       "      <th>2015-09-30 23:00:00-05:00</th>\n",
       "      <td>6547</td>\n",
       "      <td>0.323</td>\n",
       "    </tr>\n",
       "    <tr>\n",
       "      <th>2015-09-30 23:15:00-05:00</th>\n",
       "      <td>6547</td>\n",
       "      <td>0.303</td>\n",
       "    </tr>\n",
       "    <tr>\n",
       "      <th>2015-09-30 23:30:00-05:00</th>\n",
       "      <td>6547</td>\n",
       "      <td>0.357</td>\n",
       "    </tr>\n",
       "    <tr>\n",
       "      <th>2015-09-30 23:45:00-05:00</th>\n",
       "      <td>6547</td>\n",
       "      <td>2.058</td>\n",
       "    </tr>\n",
       "  </tbody>\n",
       "</table>\n",
       "<p>805524 rows × 2 columns</p>\n",
       "</div>"
      ],
      "text/plain": [
       "                           dataid   grid\n",
       "local_15min                             \n",
       "2014-01-01 00:00:00-06:00    3687  1.717\n",
       "2014-01-01 00:15:00-06:00    3687  1.905\n",
       "2014-01-01 00:30:00-06:00    3687  1.923\n",
       "2014-01-01 00:45:00-06:00    3687  1.535\n",
       "2014-01-01 01:00:00-06:00    3687  1.010\n",
       "...                           ...    ...\n",
       "2015-09-30 22:45:00-05:00    6547  0.362\n",
       "2015-09-30 23:00:00-05:00    6547  0.323\n",
       "2015-09-30 23:15:00-05:00    6547  0.303\n",
       "2015-09-30 23:30:00-05:00    6547  0.357\n",
       "2015-09-30 23:45:00-05:00    6547  2.058\n",
       "\n",
       "[805524 rows x 2 columns]"
      ]
     },
     "execution_count": 46,
     "metadata": {},
     "output_type": "execute_result"
    }
   ],
   "source": [
    "all_data"
   ]
  },
  {
   "cell_type": "code",
   "execution_count": 43,
   "metadata": {},
   "outputs": [
    {
     "name": "stdout",
     "output_type": "stream",
     "text": [
      "       dataid  grid\n",
      "count     0.0   0.0\n",
      "mean      NaN   NaN\n",
      "std       NaN   NaN\n",
      "min       NaN   NaN\n",
      "25%       NaN   NaN\n",
      "50%       NaN   NaN\n",
      "75%       NaN   NaN\n",
      "max       NaN   NaN\n"
     ]
    }
   ],
   "source": [
    "print(filt.describe())"
   ]
  },
  {
   "cell_type": "code",
   "execution_count": null,
   "metadata": {},
   "outputs": [],
   "source": []
  },
  {
   "cell_type": "code",
   "execution_count": 15,
   "metadata": {},
   "outputs": [
    {
     "data": {
      "text/plain": [
       "Index(['dataid', 'local_15min', 'air1', 'air2', 'air3', 'airwindowunit1',\n",
       "       'aquarium1', 'bathroom1', 'bathroom2', 'bedroom1', 'bedroom2',\n",
       "       'bedroom3', 'bedroom4', 'bedroom5', 'battery1', 'car1', 'car2',\n",
       "       'circpump1', 'clotheswasher1', 'clotheswasher_dryg1', 'diningroom1',\n",
       "       'diningroom2', 'dishwasher1', 'disposal1', 'drye1', 'dryg1', 'freezer1',\n",
       "       'furnace1', 'furnace2', 'garage1', 'garage2', 'grid', 'heater1',\n",
       "       'heater2', 'heater3', 'housefan1', 'icemaker1', 'jacuzzi1', 'kitchen1',\n",
       "       'kitchen2', 'kitchenapp1', 'kitchenapp2', 'lights_plugs1',\n",
       "       'lights_plugs2', 'lights_plugs3', 'lights_plugs4', 'lights_plugs5',\n",
       "       'lights_plugs6', 'livingroom1', 'livingroom2', 'microwave1', 'office1',\n",
       "       'outsidelights_plugs1', 'outsidelights_plugs2', 'oven1', 'oven2',\n",
       "       'pool1', 'pool2', 'poollight1', 'poolpump1', 'pump1', 'range1',\n",
       "       'refrigerator1', 'refrigerator2', 'security1', 'sewerpump1', 'shed1',\n",
       "       'solar', 'solar2', 'sprinkler1', 'sumppump1', 'utilityroom1',\n",
       "       'venthood1', 'waterheater1', 'waterheater2', 'wellpump1', 'winecooler1',\n",
       "       'leg1v', 'leg2v'],\n",
       "      dtype='object')"
      ]
     },
     "execution_count": 15,
     "metadata": {},
     "output_type": "execute_result"
    }
   ],
   "source": [
    "df.columns"
   ]
  },
  {
   "cell_type": "code",
   "execution_count": 18,
   "metadata": {},
   "outputs": [
    {
     "data": {
      "text/html": [
       "<div>\n",
       "<style scoped>\n",
       "    .dataframe tbody tr th:only-of-type {\n",
       "        vertical-align: middle;\n",
       "    }\n",
       "\n",
       "    .dataframe tbody tr th {\n",
       "        vertical-align: top;\n",
       "    }\n",
       "\n",
       "    .dataframe thead th {\n",
       "        text-align: right;\n",
       "    }\n",
       "</style>\n",
       "<table border=\"1\" class=\"dataframe\">\n",
       "  <thead>\n",
       "    <tr style=\"text-align: right;\">\n",
       "      <th></th>\n",
       "      <th>dataid</th>\n",
       "      <th>local_15min</th>\n",
       "      <th>air1</th>\n",
       "      <th>air2</th>\n",
       "      <th>air3</th>\n",
       "      <th>airwindowunit1</th>\n",
       "      <th>aquarium1</th>\n",
       "      <th>bathroom1</th>\n",
       "      <th>bathroom2</th>\n",
       "      <th>bedroom1</th>\n",
       "      <th>...</th>\n",
       "      <th>sprinkler1</th>\n",
       "      <th>sumppump1</th>\n",
       "      <th>utilityroom1</th>\n",
       "      <th>venthood1</th>\n",
       "      <th>waterheater1</th>\n",
       "      <th>waterheater2</th>\n",
       "      <th>wellpump1</th>\n",
       "      <th>winecooler1</th>\n",
       "      <th>leg1v</th>\n",
       "      <th>leg2v</th>\n",
       "    </tr>\n",
       "  </thead>\n",
       "  <tbody>\n",
       "    <tr>\n",
       "      <th>0</th>\n",
       "      <td>3687</td>\n",
       "      <td>2014-01-01 00:00:00-06</td>\n",
       "      <td>0.0</td>\n",
       "      <td>NaN</td>\n",
       "      <td>NaN</td>\n",
       "      <td>NaN</td>\n",
       "      <td>NaN</td>\n",
       "      <td>NaN</td>\n",
       "      <td>NaN</td>\n",
       "      <td>NaN</td>\n",
       "      <td>...</td>\n",
       "      <td>NaN</td>\n",
       "      <td>NaN</td>\n",
       "      <td>NaN</td>\n",
       "      <td>NaN</td>\n",
       "      <td>NaN</td>\n",
       "      <td>NaN</td>\n",
       "      <td>NaN</td>\n",
       "      <td>NaN</td>\n",
       "      <td>120.239</td>\n",
       "      <td>119.769</td>\n",
       "    </tr>\n",
       "    <tr>\n",
       "      <th>1</th>\n",
       "      <td>3687</td>\n",
       "      <td>2014-01-01 00:15:00-06</td>\n",
       "      <td>0.0</td>\n",
       "      <td>NaN</td>\n",
       "      <td>NaN</td>\n",
       "      <td>NaN</td>\n",
       "      <td>NaN</td>\n",
       "      <td>NaN</td>\n",
       "      <td>NaN</td>\n",
       "      <td>NaN</td>\n",
       "      <td>...</td>\n",
       "      <td>NaN</td>\n",
       "      <td>NaN</td>\n",
       "      <td>NaN</td>\n",
       "      <td>NaN</td>\n",
       "      <td>NaN</td>\n",
       "      <td>NaN</td>\n",
       "      <td>NaN</td>\n",
       "      <td>NaN</td>\n",
       "      <td>120.256</td>\n",
       "      <td>119.628</td>\n",
       "    </tr>\n",
       "    <tr>\n",
       "      <th>2</th>\n",
       "      <td>3687</td>\n",
       "      <td>2014-01-01 00:30:00-06</td>\n",
       "      <td>0.0</td>\n",
       "      <td>NaN</td>\n",
       "      <td>NaN</td>\n",
       "      <td>NaN</td>\n",
       "      <td>NaN</td>\n",
       "      <td>NaN</td>\n",
       "      <td>NaN</td>\n",
       "      <td>NaN</td>\n",
       "      <td>...</td>\n",
       "      <td>NaN</td>\n",
       "      <td>NaN</td>\n",
       "      <td>NaN</td>\n",
       "      <td>NaN</td>\n",
       "      <td>NaN</td>\n",
       "      <td>NaN</td>\n",
       "      <td>NaN</td>\n",
       "      <td>NaN</td>\n",
       "      <td>120.358</td>\n",
       "      <td>119.859</td>\n",
       "    </tr>\n",
       "    <tr>\n",
       "      <th>3</th>\n",
       "      <td>3687</td>\n",
       "      <td>2014-01-01 00:45:00-06</td>\n",
       "      <td>0.0</td>\n",
       "      <td>NaN</td>\n",
       "      <td>NaN</td>\n",
       "      <td>NaN</td>\n",
       "      <td>NaN</td>\n",
       "      <td>NaN</td>\n",
       "      <td>NaN</td>\n",
       "      <td>NaN</td>\n",
       "      <td>...</td>\n",
       "      <td>NaN</td>\n",
       "      <td>NaN</td>\n",
       "      <td>NaN</td>\n",
       "      <td>NaN</td>\n",
       "      <td>NaN</td>\n",
       "      <td>NaN</td>\n",
       "      <td>NaN</td>\n",
       "      <td>NaN</td>\n",
       "      <td>120.766</td>\n",
       "      <td>119.985</td>\n",
       "    </tr>\n",
       "    <tr>\n",
       "      <th>4</th>\n",
       "      <td>3687</td>\n",
       "      <td>2014-01-01 01:00:00-06</td>\n",
       "      <td>0.0</td>\n",
       "      <td>NaN</td>\n",
       "      <td>NaN</td>\n",
       "      <td>NaN</td>\n",
       "      <td>NaN</td>\n",
       "      <td>NaN</td>\n",
       "      <td>NaN</td>\n",
       "      <td>NaN</td>\n",
       "      <td>...</td>\n",
       "      <td>NaN</td>\n",
       "      <td>NaN</td>\n",
       "      <td>NaN</td>\n",
       "      <td>NaN</td>\n",
       "      <td>NaN</td>\n",
       "      <td>NaN</td>\n",
       "      <td>NaN</td>\n",
       "      <td>NaN</td>\n",
       "      <td>120.844</td>\n",
       "      <td>120.368</td>\n",
       "    </tr>\n",
       "    <tr>\n",
       "      <th>...</th>\n",
       "      <td>...</td>\n",
       "      <td>...</td>\n",
       "      <td>...</td>\n",
       "      <td>...</td>\n",
       "      <td>...</td>\n",
       "      <td>...</td>\n",
       "      <td>...</td>\n",
       "      <td>...</td>\n",
       "      <td>...</td>\n",
       "      <td>...</td>\n",
       "      <td>...</td>\n",
       "      <td>...</td>\n",
       "      <td>...</td>\n",
       "      <td>...</td>\n",
       "      <td>...</td>\n",
       "      <td>...</td>\n",
       "      <td>...</td>\n",
       "      <td>...</td>\n",
       "      <td>...</td>\n",
       "      <td>...</td>\n",
       "      <td>...</td>\n",
       "    </tr>\n",
       "    <tr>\n",
       "      <th>35031</th>\n",
       "      <td>3687</td>\n",
       "      <td>2014-12-31 22:45:00-06</td>\n",
       "      <td>0.0</td>\n",
       "      <td>NaN</td>\n",
       "      <td>NaN</td>\n",
       "      <td>NaN</td>\n",
       "      <td>NaN</td>\n",
       "      <td>NaN</td>\n",
       "      <td>NaN</td>\n",
       "      <td>NaN</td>\n",
       "      <td>...</td>\n",
       "      <td>NaN</td>\n",
       "      <td>NaN</td>\n",
       "      <td>NaN</td>\n",
       "      <td>NaN</td>\n",
       "      <td>NaN</td>\n",
       "      <td>NaN</td>\n",
       "      <td>NaN</td>\n",
       "      <td>NaN</td>\n",
       "      <td>119.311</td>\n",
       "      <td>119.766</td>\n",
       "    </tr>\n",
       "    <tr>\n",
       "      <th>35032</th>\n",
       "      <td>3687</td>\n",
       "      <td>2014-12-31 23:00:00-06</td>\n",
       "      <td>0.0</td>\n",
       "      <td>NaN</td>\n",
       "      <td>NaN</td>\n",
       "      <td>NaN</td>\n",
       "      <td>NaN</td>\n",
       "      <td>NaN</td>\n",
       "      <td>NaN</td>\n",
       "      <td>NaN</td>\n",
       "      <td>...</td>\n",
       "      <td>NaN</td>\n",
       "      <td>NaN</td>\n",
       "      <td>NaN</td>\n",
       "      <td>NaN</td>\n",
       "      <td>NaN</td>\n",
       "      <td>NaN</td>\n",
       "      <td>NaN</td>\n",
       "      <td>NaN</td>\n",
       "      <td>118.694</td>\n",
       "      <td>119.888</td>\n",
       "    </tr>\n",
       "    <tr>\n",
       "      <th>35033</th>\n",
       "      <td>3687</td>\n",
       "      <td>2014-12-31 23:15:00-06</td>\n",
       "      <td>0.0</td>\n",
       "      <td>NaN</td>\n",
       "      <td>NaN</td>\n",
       "      <td>NaN</td>\n",
       "      <td>NaN</td>\n",
       "      <td>NaN</td>\n",
       "      <td>NaN</td>\n",
       "      <td>NaN</td>\n",
       "      <td>...</td>\n",
       "      <td>NaN</td>\n",
       "      <td>NaN</td>\n",
       "      <td>NaN</td>\n",
       "      <td>NaN</td>\n",
       "      <td>NaN</td>\n",
       "      <td>NaN</td>\n",
       "      <td>NaN</td>\n",
       "      <td>NaN</td>\n",
       "      <td>118.929</td>\n",
       "      <td>119.970</td>\n",
       "    </tr>\n",
       "    <tr>\n",
       "      <th>35034</th>\n",
       "      <td>3687</td>\n",
       "      <td>2014-12-31 23:30:00-06</td>\n",
       "      <td>0.0</td>\n",
       "      <td>NaN</td>\n",
       "      <td>NaN</td>\n",
       "      <td>NaN</td>\n",
       "      <td>NaN</td>\n",
       "      <td>NaN</td>\n",
       "      <td>NaN</td>\n",
       "      <td>NaN</td>\n",
       "      <td>...</td>\n",
       "      <td>NaN</td>\n",
       "      <td>NaN</td>\n",
       "      <td>NaN</td>\n",
       "      <td>NaN</td>\n",
       "      <td>NaN</td>\n",
       "      <td>NaN</td>\n",
       "      <td>NaN</td>\n",
       "      <td>NaN</td>\n",
       "      <td>119.195</td>\n",
       "      <td>119.873</td>\n",
       "    </tr>\n",
       "    <tr>\n",
       "      <th>35035</th>\n",
       "      <td>3687</td>\n",
       "      <td>2014-12-31 23:45:00-06</td>\n",
       "      <td>0.0</td>\n",
       "      <td>NaN</td>\n",
       "      <td>NaN</td>\n",
       "      <td>NaN</td>\n",
       "      <td>NaN</td>\n",
       "      <td>NaN</td>\n",
       "      <td>NaN</td>\n",
       "      <td>NaN</td>\n",
       "      <td>...</td>\n",
       "      <td>NaN</td>\n",
       "      <td>NaN</td>\n",
       "      <td>NaN</td>\n",
       "      <td>NaN</td>\n",
       "      <td>NaN</td>\n",
       "      <td>NaN</td>\n",
       "      <td>NaN</td>\n",
       "      <td>NaN</td>\n",
       "      <td>119.228</td>\n",
       "      <td>119.985</td>\n",
       "    </tr>\n",
       "  </tbody>\n",
       "</table>\n",
       "<p>35036 rows × 79 columns</p>\n",
       "</div>"
      ],
      "text/plain": [
       "       dataid             local_15min  air1  air2  air3  airwindowunit1  \\\n",
       "0        3687  2014-01-01 00:00:00-06   0.0   NaN   NaN             NaN   \n",
       "1        3687  2014-01-01 00:15:00-06   0.0   NaN   NaN             NaN   \n",
       "2        3687  2014-01-01 00:30:00-06   0.0   NaN   NaN             NaN   \n",
       "3        3687  2014-01-01 00:45:00-06   0.0   NaN   NaN             NaN   \n",
       "4        3687  2014-01-01 01:00:00-06   0.0   NaN   NaN             NaN   \n",
       "...       ...                     ...   ...   ...   ...             ...   \n",
       "35031    3687  2014-12-31 22:45:00-06   0.0   NaN   NaN             NaN   \n",
       "35032    3687  2014-12-31 23:00:00-06   0.0   NaN   NaN             NaN   \n",
       "35033    3687  2014-12-31 23:15:00-06   0.0   NaN   NaN             NaN   \n",
       "35034    3687  2014-12-31 23:30:00-06   0.0   NaN   NaN             NaN   \n",
       "35035    3687  2014-12-31 23:45:00-06   0.0   NaN   NaN             NaN   \n",
       "\n",
       "       aquarium1  bathroom1  bathroom2  bedroom1  ...  sprinkler1  sumppump1  \\\n",
       "0            NaN        NaN        NaN       NaN  ...         NaN        NaN   \n",
       "1            NaN        NaN        NaN       NaN  ...         NaN        NaN   \n",
       "2            NaN        NaN        NaN       NaN  ...         NaN        NaN   \n",
       "3            NaN        NaN        NaN       NaN  ...         NaN        NaN   \n",
       "4            NaN        NaN        NaN       NaN  ...         NaN        NaN   \n",
       "...          ...        ...        ...       ...  ...         ...        ...   \n",
       "35031        NaN        NaN        NaN       NaN  ...         NaN        NaN   \n",
       "35032        NaN        NaN        NaN       NaN  ...         NaN        NaN   \n",
       "35033        NaN        NaN        NaN       NaN  ...         NaN        NaN   \n",
       "35034        NaN        NaN        NaN       NaN  ...         NaN        NaN   \n",
       "35035        NaN        NaN        NaN       NaN  ...         NaN        NaN   \n",
       "\n",
       "       utilityroom1  venthood1  waterheater1  waterheater2  wellpump1  \\\n",
       "0               NaN        NaN           NaN           NaN        NaN   \n",
       "1               NaN        NaN           NaN           NaN        NaN   \n",
       "2               NaN        NaN           NaN           NaN        NaN   \n",
       "3               NaN        NaN           NaN           NaN        NaN   \n",
       "4               NaN        NaN           NaN           NaN        NaN   \n",
       "...             ...        ...           ...           ...        ...   \n",
       "35031           NaN        NaN           NaN           NaN        NaN   \n",
       "35032           NaN        NaN           NaN           NaN        NaN   \n",
       "35033           NaN        NaN           NaN           NaN        NaN   \n",
       "35034           NaN        NaN           NaN           NaN        NaN   \n",
       "35035           NaN        NaN           NaN           NaN        NaN   \n",
       "\n",
       "       winecooler1    leg1v    leg2v  \n",
       "0              NaN  120.239  119.769  \n",
       "1              NaN  120.256  119.628  \n",
       "2              NaN  120.358  119.859  \n",
       "3              NaN  120.766  119.985  \n",
       "4              NaN  120.844  120.368  \n",
       "...            ...      ...      ...  \n",
       "35031          NaN  119.311  119.766  \n",
       "35032          NaN  118.694  119.888  \n",
       "35033          NaN  118.929  119.970  \n",
       "35034          NaN  119.195  119.873  \n",
       "35035          NaN  119.228  119.985  \n",
       "\n",
       "[35036 rows x 79 columns]"
      ]
     },
     "execution_count": 18,
     "metadata": {},
     "output_type": "execute_result"
    }
   ],
   "source": [
    "df[df[\"dataid\"]==3687]"
   ]
  },
  {
   "cell_type": "code",
   "execution_count": 23,
   "metadata": {},
   "outputs": [
    {
     "data": {
      "text/plain": [
       "[<matplotlib.lines.Line2D at 0x7f9cc994e9b0>]"
      ]
     },
     "execution_count": 23,
     "metadata": {},
     "output_type": "execute_result"
    },
    {
     "data": {
      "image/png": "[encoded data removed]",
      "text/plain": [
       "<Figure size 432x288 with 1 Axes>"
      ]
     },
     "metadata": {
      "needs_background": "light"
     },
     "output_type": "display_data"
    }
   ],
   "source": [
    "plt.plot(df[df[\"dataid\"]==3687][\"leg1v\"])"
   ]
  },
  {
   "cell_type": "code",
   "execution_count": 20,
   "metadata": {},
   "outputs": [],
   "source": [
    "unique_dataid_count = df['dataid'].nunique()"
   ]
  },
  {
   "cell_type": "code",
   "execution_count": 21,
   "metadata": {},
   "outputs": [
    {
     "data": {
      "text/plain": [
       "23"
      ]
     },
     "execution_count": 21,
     "metadata": {},
     "output_type": "execute_result"
    }
   ],
   "source": [
    "unique_dataid_count"
   ]
  },
  {
   "cell_type": "code",
   "execution_count": 22,
   "metadata": {},
   "outputs": [
    {
     "data": {
      "text/plain": [
       "array([3687, 6377, 7062, 8574, 9213,  203, 1450, 1524, 2606, 3864, 7114,\n",
       "       1731, 4495, 8342, 3938, 5938, 8061, 9775, 4934, 8733, 9612, 9836,\n",
       "       6547])"
      ]
     },
     "execution_count": 22,
     "metadata": {},
     "output_type": "execute_result"
    }
   ],
   "source": [
    "unique_dataids = df['dataid'].unique()\n",
    "unique_dataids"
   ]
  },
  {
   "cell_type": "code",
   "execution_count": null,
   "metadata": {},
   "outputs": [],
   "source": []
  }
 ],
 "metadata": {
  "kernelspec": {
   "display_name": "Python 3",
   "language": "python",
   "name": "python3"
  },
  "language_info": {
   "codemirror_mode": {
    "name": "ipython",
    "version": 3
   },
   "file_extension": ".py",
   "mimetype": "text/x-python",
   "name": "python",
   "nbconvert_exporter": "python",
   "pygments_lexer": "ipython3",
   "version": "3.7.3"
  },
  "toc": {
   "base_numbering": 1,
   "nav_menu": {},
   "number_sections": true,
   "sideBar": true,
   "skip_h1_title": false,
   "title_cell": "Table of Contents",
   "title_sidebar": "Contents",
   "toc_cell": false,
   "toc_position": {},
   "toc_section_display": true,
   "toc_window_display": false
  }
 },
 "nbformat": 4,
 "nbformat_minor": 2
}
