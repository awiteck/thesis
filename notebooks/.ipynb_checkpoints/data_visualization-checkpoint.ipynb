{
 "cells": [
  {
   "cell_type": "code",
   "execution_count": 1,
   "metadata": {},
   "outputs": [
    {
     "name": "stderr",
     "output_type": "stream",
     "text": [
      "/Users/aidanwiteck/anaconda3/lib/python3.7/site-packages/pandas/compat/_optional.py:138: UserWarning: Pandas requires version '2.7.0' or newer of 'numexpr' (version '2.6.9' currently installed).\n",
      "  warnings.warn(msg, UserWarning)\n"
     ]
    }
   ],
   "source": [
    "import os\n",
    "import pandas as pd\n",
    "import matplotlib.pyplot as plt\n",
    "import numpy as np"
   ]
  },
  {
   "cell_type": "code",
   "execution_count": 2,
   "metadata": {},
   "outputs": [],
   "source": [
    "path = \"/Users/aidanwiteck/Desktop/Princeton/Year 4/Thesis/thesis2/data/final_tables/erco/erco.csv\"\n",
    "df = pd.read_csv(path)\n",
    "df['timestamp'] = pd.to_datetime(df['timestamp'])"
   ]
  },
  {
   "cell_type": "code",
   "execution_count": 3,
   "metadata": {},
   "outputs": [
    {
     "data": {
      "text/html": [
       "<div>\n",
       "<style scoped>\n",
       "    .dataframe tbody tr th:only-of-type {\n",
       "        vertical-align: middle;\n",
       "    }\n",
       "\n",
       "    .dataframe tbody tr th {\n",
       "        vertical-align: top;\n",
       "    }\n",
       "\n",
       "    .dataframe thead th {\n",
       "        text-align: right;\n",
       "    }\n",
       "</style>\n",
       "<table border=\"1\" class=\"dataframe\">\n",
       "  <thead>\n",
       "    <tr style=\"text-align: right;\">\n",
       "      <th></th>\n",
       "      <th>timestamp</th>\n",
       "      <th>Demand (MWh)</th>\n",
       "      <th>Demand Forecast (MWh)</th>\n",
       "      <th>Net Generation (MWh)</th>\n",
       "      <th>Region</th>\n",
       "      <th>Normalized Demand</th>\n",
       "      <th>Normalized Forecast</th>\n",
       "      <th>temperature</th>\n",
       "      <th>humidity</th>\n",
       "      <th>cloudcover</th>\n",
       "      <th>windspeed</th>\n",
       "      <th>year</th>\n",
       "      <th>month</th>\n",
       "      <th>day_of_week</th>\n",
       "      <th>day</th>\n",
       "      <th>hour</th>\n",
       "    </tr>\n",
       "  </thead>\n",
       "  <tbody>\n",
       "    <tr>\n",
       "      <th>0</th>\n",
       "      <td>2016-01-01 00:00:00</td>\n",
       "      <td>34680.0</td>\n",
       "      <td>36278.0</td>\n",
       "      <td>34655.0</td>\n",
       "      <td>erco</td>\n",
       "      <td>-0.870715</td>\n",
       "      <td>-0.711566</td>\n",
       "      <td>9.1</td>\n",
       "      <td>66</td>\n",
       "      <td>95</td>\n",
       "      <td>20.3</td>\n",
       "      <td>2016</td>\n",
       "      <td>1</td>\n",
       "      <td>4</td>\n",
       "      <td>1</td>\n",
       "      <td>0</td>\n",
       "    </tr>\n",
       "    <tr>\n",
       "      <th>1</th>\n",
       "      <td>2016-01-01 01:00:00</td>\n",
       "      <td>33846.0</td>\n",
       "      <td>34382.0</td>\n",
       "      <td>33886.0</td>\n",
       "      <td>erco</td>\n",
       "      <td>-0.953776</td>\n",
       "      <td>-0.900394</td>\n",
       "      <td>8.3</td>\n",
       "      <td>64</td>\n",
       "      <td>90</td>\n",
       "      <td>21.9</td>\n",
       "      <td>2016</td>\n",
       "      <td>1</td>\n",
       "      <td>4</td>\n",
       "      <td>1</td>\n",
       "      <td>1</td>\n",
       "    </tr>\n",
       "    <tr>\n",
       "      <th>2</th>\n",
       "      <td>2016-01-01 02:00:00</td>\n",
       "      <td>33427.0</td>\n",
       "      <td>34078.0</td>\n",
       "      <td>33469.0</td>\n",
       "      <td>erco</td>\n",
       "      <td>-0.995505</td>\n",
       "      <td>-0.930670</td>\n",
       "      <td>8.1</td>\n",
       "      <td>63</td>\n",
       "      <td>94</td>\n",
       "      <td>21.6</td>\n",
       "      <td>2016</td>\n",
       "      <td>1</td>\n",
       "      <td>4</td>\n",
       "      <td>1</td>\n",
       "      <td>2</td>\n",
       "    </tr>\n",
       "    <tr>\n",
       "      <th>3</th>\n",
       "      <td>2016-01-01 03:00:00</td>\n",
       "      <td>33086.0</td>\n",
       "      <td>33807.0</td>\n",
       "      <td>33129.0</td>\n",
       "      <td>erco</td>\n",
       "      <td>-1.029466</td>\n",
       "      <td>-0.957660</td>\n",
       "      <td>7.9</td>\n",
       "      <td>62</td>\n",
       "      <td>93</td>\n",
       "      <td>22.4</td>\n",
       "      <td>2016</td>\n",
       "      <td>1</td>\n",
       "      <td>4</td>\n",
       "      <td>1</td>\n",
       "      <td>3</td>\n",
       "    </tr>\n",
       "    <tr>\n",
       "      <th>4</th>\n",
       "      <td>2016-01-01 04:00:00</td>\n",
       "      <td>33048.0</td>\n",
       "      <td>33524.0</td>\n",
       "      <td>33090.0</td>\n",
       "      <td>erco</td>\n",
       "      <td>-1.033251</td>\n",
       "      <td>-0.985844</td>\n",
       "      <td>7.7</td>\n",
       "      <td>60</td>\n",
       "      <td>91</td>\n",
       "      <td>23.9</td>\n",
       "      <td>2016</td>\n",
       "      <td>1</td>\n",
       "      <td>4</td>\n",
       "      <td>1</td>\n",
       "      <td>4</td>\n",
       "    </tr>\n",
       "  </tbody>\n",
       "</table>\n",
       "</div>"
      ],
      "text/plain": [
       "            timestamp  Demand (MWh)  Demand Forecast (MWh)  \\\n",
       "0 2016-01-01 00:00:00       34680.0                36278.0   \n",
       "1 2016-01-01 01:00:00       33846.0                34382.0   \n",
       "2 2016-01-01 02:00:00       33427.0                34078.0   \n",
       "3 2016-01-01 03:00:00       33086.0                33807.0   \n",
       "4 2016-01-01 04:00:00       33048.0                33524.0   \n",
       "\n",
       "   Net Generation (MWh) Region  Normalized Demand  Normalized Forecast  \\\n",
       "0               34655.0   erco          -0.870715            -0.711566   \n",
       "1               33886.0   erco          -0.953776            -0.900394   \n",
       "2               33469.0   erco          -0.995505            -0.930670   \n",
       "3               33129.0   erco          -1.029466            -0.957660   \n",
       "4               33090.0   erco          -1.033251            -0.985844   \n",
       "\n",
       "   temperature  humidity  cloudcover  windspeed  year  month  day_of_week  \\\n",
       "0          9.1        66          95       20.3  2016      1            4   \n",
       "1          8.3        64          90       21.9  2016      1            4   \n",
       "2          8.1        63          94       21.6  2016      1            4   \n",
       "3          7.9        62          93       22.4  2016      1            4   \n",
       "4          7.7        60          91       23.9  2016      1            4   \n",
       "\n",
       "   day  hour  \n",
       "0    1     0  \n",
       "1    1     1  \n",
       "2    1     2  \n",
       "3    1     3  \n",
       "4    1     4  "
      ]
     },
     "execution_count": 3,
     "metadata": {},
     "output_type": "execute_result"
    }
   ],
   "source": [
    "df.head()"
   ]
  },
  {
   "cell_type": "markdown",
   "metadata": {},
   "source": [
    "# Load values"
   ]
  },
  {
   "cell_type": "code",
   "execution_count": 28,
   "metadata": {},
   "outputs": [],
   "source": [
    "# Calculate mean and standard deviation\n",
    "mean_val = df['Demand (MWh)'].mean()\n",
    "std_dev = df['Demand (MWh)'].std()\n",
    "\n",
    "# Set histogram range to +/- one standard deviation from the mean\n",
    "hist_range = (0, mean_val + std_dev/10)"
   ]
  },
  {
   "cell_type": "code",
   "execution_count": 24,
   "metadata": {},
   "outputs": [
    {
     "data": {
      "text/plain": [
       "43558.95121315322"
      ]
     },
     "execution_count": 24,
     "metadata": {},
     "output_type": "execute_result"
    }
   ],
   "source": [
    "mean_val"
   ]
  },
  {
   "cell_type": "code",
   "execution_count": 25,
   "metadata": {},
   "outputs": [
    {
     "data": {
      "text/plain": [
       "10011.015254620044"
      ]
     },
     "execution_count": 25,
     "metadata": {},
     "output_type": "execute_result"
    }
   ],
   "source": [
    "std_dev"
   ]
  },
  {
   "cell_type": "code",
   "execution_count": 21,
   "metadata": {},
   "outputs": [],
   "source": [
    "num_bins=30"
   ]
  },
  {
   "cell_type": "code",
   "execution_count": 27,
   "metadata": {
    "scrolled": false
   },
   "outputs": [
    {
     "data": {
      "image/png": "[encoded data removed]",
      "text/plain": [
       "<Figure size 1152x432 with 1 Axes>"
      ]
     },
     "metadata": {
      "needs_background": "light"
     },
     "output_type": "display_data"
    }
   ],
   "source": [
    "demand = df['Demand (MWh)']\n",
    "\n",
    "# Calculate mean and standard deviation\n",
    "mean_val = demand.mean()\n",
    "std_dev = demand.std()\n",
    "\n",
    "# Set histogram range to +/- one standard deviation from the mean\n",
    "hist_range = (20000, 80000)\n",
    "\n",
    "plt.figure(figsize=(16, 6))  # Set the figure size for better visibility\n",
    "# Plot histogram\n",
    "plt.hist(demand, bins=num_bins, range=hist_range, edgecolor='black', alpha=0.7)\n",
    "plt.xlabel('Demand (MWh)')\n",
    "plt.ylabel('Frequency')\n",
    "plt.savefig(f\"/Users/aidanwiteck/Desktop/Princeton/Year 4/Thesis/Homeworks/SpringInterimReport/demandhist1.pdf\", \n",
    "                            format=\"pdf\", \n",
    "                            bbox_inches=\"tight\")\n",
    "# plt.title('Histogram of Log10(Demand (MWh))')\n",
    "plt.show()"
   ]
  },
  {
   "cell_type": "code",
   "execution_count": 30,
   "metadata": {},
   "outputs": [],
   "source": [
    "# df[df['Demand (MWh)']<1000]"
   ]
  },
  {
   "cell_type": "code",
   "execution_count": 31,
   "metadata": {},
   "outputs": [],
   "source": [
    "# min(df['Demand (MWh)'])"
   ]
  },
  {
   "cell_type": "code",
   "execution_count": 29,
   "metadata": {},
   "outputs": [],
   "source": [
    "# # Transform the values using the natural logarithm\n",
    "# log_demand = np.log10(df['Demand (MWh)'])\n",
    "\n",
    "# # Calculate mean and standard deviation\n",
    "# log_mean_val = log_demand.mean()\n",
    "# log_std_dev = log_demand.std()\n",
    "\n",
    "# # Set histogram range to +/- one standard deviation from the mean\n",
    "# log_hist_range = (log_mean_val-2*log_std_dev, log_mean_val + 3*log_std_dev)\n",
    "\n",
    "# # Plot histogram\n",
    "# plt.hist(log_demand, bins=num_bins, range=log_hist_range, edgecolor='black', alpha=0.7)\n",
    "# plt.xlabel('Log10(Demand (MWh))')\n",
    "# plt.ylabel('Frequency')\n",
    "# # plt.title('Histogram of Log10(Demand (MWh))')\n",
    "# plt.show()"
   ]
  },
  {
   "cell_type": "markdown",
   "metadata": {},
   "source": [
    "# Average loads by hour"
   ]
  },
  {
   "cell_type": "code",
   "execution_count": 32,
   "metadata": {},
   "outputs": [],
   "source": [
    "# hourly_means.keys()"
   ]
  },
  {
   "cell_type": "code",
   "execution_count": 36,
   "metadata": {},
   "outputs": [
    {
     "data": {
      "image/png": "[encoded data removed]",
      "text/plain": [
       "<Figure size 1152x432 with 1 Axes>"
      ]
     },
     "metadata": {
      "needs_background": "light"
     },
     "output_type": "display_data"
    }
   ],
   "source": [
    "# Extract hour from the timestamp\n",
    "df['hour'] = df['timestamp'].dt.hour\n",
    "df['day_of_week'] = df['timestamp'].dt.dayofweek\n",
    "\n",
    "# Compute mean demand for each hour\n",
    "hourly_means = df.groupby('hour')['Demand (MWh)'].mean()\n",
    "\n",
    "# Plot the results\n",
    "plt.figure(figsize=(16, 6))\n",
    "plt.bar(hourly_means.keys(), hourly_means.values, edgecolor='black', alpha=0.7)\n",
    "plt.xlabel('Hour of the Day')\n",
    "plt.ylabel('Mean Demand (MWh)')\n",
    "# plt.title('Mean Demand for Each Hour of the Day')\n",
    "plt.xticks(rotation=0)\n",
    "plt.savefig(f\"/Users/aidanwiteck/Desktop/Princeton/Year 4/Thesis/Homeworks/SpringInterimReport/houraverages.pdf\", \n",
    "                            format=\"pdf\", \n",
    "                            bbox_inches=\"tight\")\n",
    "plt.show()"
   ]
  },
  {
   "cell_type": "code",
   "execution_count": 38,
   "metadata": {},
   "outputs": [
    {
     "data": {
      "image/png": "[encoded data removed]",
      "text/plain": [
       "<Figure size 720x432 with 1 Axes>"
      ]
     },
     "metadata": {
      "needs_background": "light"
     },
     "output_type": "display_data"
    }
   ],
   "source": [
    "# Map numerical days to their string names\n",
    "day_mapping = {0: 'Monday', \n",
    "               1: 'Tuesday', \n",
    "               2: 'Wednesday', \n",
    "               3: 'Thursday', \n",
    "               4: 'Friday',\n",
    "               5: 'Saturday', \n",
    "               6: 'Sunday'}\n",
    "df['day_name'] = df['day_of_week'].map(day_mapping)\n",
    "\n",
    "# Compute mean demand for each day of the week\n",
    "daily_means = df.groupby('day_name')['Demand (MWh)'].mean().reindex(day_mapping.values())\n",
    "\n",
    "# Plot the results\n",
    "plt.figure(figsize=(10, 6))\n",
    "plt.bar(daily_means.keys(), daily_means.values, edgecolor='black', alpha=0.7)\n",
    "for index, value in enumerate(daily_means.values):\n",
    "#     print(value)\n",
    "    plt.text(index, value//2, str(int(value)), ha = 'center',Bbox = dict(facecolor = 'white', alpha = .5))\n",
    "plt.xlabel('Day of the Week')\n",
    "plt.ylabel('Mean Demand (MWh)')\n",
    "plt.xticks(rotation=45)\n",
    "plt.tight_layout()\n",
    "plt.savefig(\n",
    "    f\"/Users/aidanwiteck/Desktop/Princeton/Year 4/Thesis/Homeworks/SpringInterimReport/dayofweekbar.pdf\", \n",
    "    format=\"pdf\", \n",
    "    bbox_inches=\"tight\")\n",
    "plt.show()"
   ]
  },
  {
   "cell_type": "code",
   "execution_count": null,
   "metadata": {},
   "outputs": [],
   "source": []
  },
  {
   "cell_type": "code",
   "execution_count": 40,
   "metadata": {},
   "outputs": [
    {
     "data": {
      "image/png": "[encoded data removed]",
      "text/plain": [
       "<Figure size 1152x432 with 1 Axes>"
      ]
     },
     "metadata": {
      "needs_background": "light"
     },
     "output_type": "display_data"
    }
   ],
   "source": [
    "average_demand = df.groupby(['day_of_week', 'hour'])['Demand (MWh)'].mean().unstack()\n",
    "# Flattening the DataFrame to a series\n",
    "average_demand_series = average_demand.stack().reset_index(name='Average Demand')\n",
    "\n",
    "# Sorting values (optional, if needed, based on the structure of the data)\n",
    "average_demand_series.sort_values(by=['day_of_week', 'hour'], inplace=True)\n",
    "\n",
    "# Plotting\n",
    "plt.figure(figsize=(16, 6))\n",
    "plt.plot(average_demand_series['Average Demand'])\n",
    "# plt.title('Hourly Demand in BANC Over the Week')\n",
    "plt.ylabel('Mean Demand (MWh)')\n",
    "plt.grid(True)\n",
    "\n",
    "# Customizing the x-ticks to show day and hour\n",
    "day_mapping = {0: 'Monday', 1: 'Tuesday', 2: 'Wednesday', 3: 'Thursday', 4: 'Friday', 5: 'Saturday', 6: 'Sunday'}\n",
    "xtick_labels = [f'{day_mapping[day]}' for day, hour in zip(average_demand_series['day_of_week'], average_demand_series['hour'])]\n",
    "plt.xticks(ticks=range(0, len(xtick_labels), int(len(xtick_labels)/7)), labels=xtick_labels[::int(len(xtick_labels)/7)], rotation=0, ha=\"left\")\n",
    "\n",
    "plt.tight_layout()\n",
    "plt.savefig(\"/Users/aidanwiteck/Desktop/Princeton/Year 4/Thesis/Homeworks/SpringInterimReport/dayofweekcurve.pdf\", format=\"pdf\", bbox_inches=\"tight\")\n",
    "\n",
    "plt.show()\n",
    "\n"
   ]
  },
  {
   "cell_type": "code",
   "execution_count": 39,
   "metadata": {},
   "outputs": [
    {
     "data": {
      "text/html": [
       "<div>\n",
       "<style scoped>\n",
       "    .dataframe tbody tr th:only-of-type {\n",
       "        vertical-align: middle;\n",
       "    }\n",
       "\n",
       "    .dataframe tbody tr th {\n",
       "        vertical-align: top;\n",
       "    }\n",
       "\n",
       "    .dataframe thead th {\n",
       "        text-align: right;\n",
       "    }\n",
       "</style>\n",
       "<table border=\"1\" class=\"dataframe\">\n",
       "  <thead>\n",
       "    <tr style=\"text-align: right;\">\n",
       "      <th>hour</th>\n",
       "      <th>0</th>\n",
       "      <th>1</th>\n",
       "      <th>2</th>\n",
       "      <th>3</th>\n",
       "      <th>4</th>\n",
       "      <th>5</th>\n",
       "      <th>6</th>\n",
       "      <th>7</th>\n",
       "      <th>8</th>\n",
       "      <th>9</th>\n",
       "      <th>...</th>\n",
       "      <th>14</th>\n",
       "      <th>15</th>\n",
       "      <th>16</th>\n",
       "      <th>17</th>\n",
       "      <th>18</th>\n",
       "      <th>19</th>\n",
       "      <th>20</th>\n",
       "      <th>21</th>\n",
       "      <th>22</th>\n",
       "      <th>23</th>\n",
       "    </tr>\n",
       "    <tr>\n",
       "      <th>day_of_week</th>\n",
       "      <th></th>\n",
       "      <th></th>\n",
       "      <th></th>\n",
       "      <th></th>\n",
       "      <th></th>\n",
       "      <th></th>\n",
       "      <th></th>\n",
       "      <th></th>\n",
       "      <th></th>\n",
       "      <th></th>\n",
       "      <th></th>\n",
       "      <th></th>\n",
       "      <th></th>\n",
       "      <th></th>\n",
       "      <th></th>\n",
       "      <th></th>\n",
       "      <th></th>\n",
       "      <th></th>\n",
       "      <th></th>\n",
       "      <th></th>\n",
       "      <th></th>\n",
       "    </tr>\n",
       "  </thead>\n",
       "  <tbody>\n",
       "    <tr>\n",
       "      <th>0</th>\n",
       "      <td>1787.370844</td>\n",
       "      <td>1665.664962</td>\n",
       "      <td>1585.537084</td>\n",
       "      <td>1540.099744</td>\n",
       "      <td>1527.156010</td>\n",
       "      <td>1562.526854</td>\n",
       "      <td>1659.583120</td>\n",
       "      <td>1792.959079</td>\n",
       "      <td>1882.974425</td>\n",
       "      <td>1930.358056</td>\n",
       "      <td>...</td>\n",
       "      <td>2214.414322</td>\n",
       "      <td>2302.046036</td>\n",
       "      <td>2374.071611</td>\n",
       "      <td>2464.337596</td>\n",
       "      <td>2529.363171</td>\n",
       "      <td>2515.572890</td>\n",
       "      <td>2447.350384</td>\n",
       "      <td>2363.035806</td>\n",
       "      <td>2222.647059</td>\n",
       "      <td>2018.381074</td>\n",
       "    </tr>\n",
       "    <tr>\n",
       "      <th>1</th>\n",
       "      <td>1834.751918</td>\n",
       "      <td>1707.769821</td>\n",
       "      <td>1624.227621</td>\n",
       "      <td>1575.035806</td>\n",
       "      <td>1557.913043</td>\n",
       "      <td>1590.457801</td>\n",
       "      <td>1686.475703</td>\n",
       "      <td>1832.393862</td>\n",
       "      <td>1920.529412</td>\n",
       "      <td>1957.092072</td>\n",
       "      <td>...</td>\n",
       "      <td>2233.723785</td>\n",
       "      <td>2310.447570</td>\n",
       "      <td>2390.127877</td>\n",
       "      <td>2477.485934</td>\n",
       "      <td>2543.593350</td>\n",
       "      <td>2531.368286</td>\n",
       "      <td>2461.629156</td>\n",
       "      <td>2376.248082</td>\n",
       "      <td>2233.115090</td>\n",
       "      <td>2028.736573</td>\n",
       "    </tr>\n",
       "    <tr>\n",
       "      <th>2</th>\n",
       "      <td>1842.317136</td>\n",
       "      <td>1716.507653</td>\n",
       "      <td>1630.395408</td>\n",
       "      <td>1578.890306</td>\n",
       "      <td>1560.045918</td>\n",
       "      <td>1591.209184</td>\n",
       "      <td>1686.936224</td>\n",
       "      <td>1832.923469</td>\n",
       "      <td>1920.334184</td>\n",
       "      <td>1959.272959</td>\n",
       "      <td>...</td>\n",
       "      <td>2226.025510</td>\n",
       "      <td>2319.099490</td>\n",
       "      <td>2391.775510</td>\n",
       "      <td>2483.640306</td>\n",
       "      <td>2541.943878</td>\n",
       "      <td>2523.482143</td>\n",
       "      <td>2457.058673</td>\n",
       "      <td>2375.061224</td>\n",
       "      <td>2230.663265</td>\n",
       "      <td>2028.147959</td>\n",
       "    </tr>\n",
       "    <tr>\n",
       "      <th>3</th>\n",
       "      <td>1840.693878</td>\n",
       "      <td>1711.357143</td>\n",
       "      <td>1626.477041</td>\n",
       "      <td>1573.244898</td>\n",
       "      <td>1555.010204</td>\n",
       "      <td>1585.053571</td>\n",
       "      <td>1679.806122</td>\n",
       "      <td>1823.594388</td>\n",
       "      <td>1909.989796</td>\n",
       "      <td>1947.252551</td>\n",
       "      <td>...</td>\n",
       "      <td>2208.673469</td>\n",
       "      <td>2287.961735</td>\n",
       "      <td>2374.928571</td>\n",
       "      <td>2447.183673</td>\n",
       "      <td>2509.403061</td>\n",
       "      <td>2491.079082</td>\n",
       "      <td>2432.732143</td>\n",
       "      <td>2345.841837</td>\n",
       "      <td>2211.191327</td>\n",
       "      <td>2016.788265</td>\n",
       "    </tr>\n",
       "    <tr>\n",
       "      <th>4</th>\n",
       "      <td>1834.704082</td>\n",
       "      <td>1711.844388</td>\n",
       "      <td>1628.742347</td>\n",
       "      <td>1575.617347</td>\n",
       "      <td>1555.609694</td>\n",
       "      <td>1584.890306</td>\n",
       "      <td>1674.897959</td>\n",
       "      <td>1812.926020</td>\n",
       "      <td>1896.198980</td>\n",
       "      <td>1940.316327</td>\n",
       "      <td>...</td>\n",
       "      <td>2193.267857</td>\n",
       "      <td>2265.594388</td>\n",
       "      <td>2345.645408</td>\n",
       "      <td>2419.811224</td>\n",
       "      <td>2477.561224</td>\n",
       "      <td>2448.650510</td>\n",
       "      <td>2377.568878</td>\n",
       "      <td>2298.441327</td>\n",
       "      <td>2184.035714</td>\n",
       "      <td>2014.573980</td>\n",
       "    </tr>\n",
       "    <tr>\n",
       "      <th>5</th>\n",
       "      <td>1849.426020</td>\n",
       "      <td>1722.897959</td>\n",
       "      <td>1631.367347</td>\n",
       "      <td>1571.576531</td>\n",
       "      <td>1538.387755</td>\n",
       "      <td>1537.681122</td>\n",
       "      <td>1567.846939</td>\n",
       "      <td>1623.920918</td>\n",
       "      <td>1667.451531</td>\n",
       "      <td>1741.816327</td>\n",
       "      <td>...</td>\n",
       "      <td>2031.102041</td>\n",
       "      <td>2098.711735</td>\n",
       "      <td>2178.931122</td>\n",
       "      <td>2270.880102</td>\n",
       "      <td>2340.002551</td>\n",
       "      <td>2342.956633</td>\n",
       "      <td>2288.533163</td>\n",
       "      <td>2218.104592</td>\n",
       "      <td>2113.114796</td>\n",
       "      <td>1961.117347</td>\n",
       "    </tr>\n",
       "    <tr>\n",
       "      <th>6</th>\n",
       "      <td>1808.137755</td>\n",
       "      <td>1689.263427</td>\n",
       "      <td>1603.112532</td>\n",
       "      <td>1545.475703</td>\n",
       "      <td>1513.115090</td>\n",
       "      <td>1507.938619</td>\n",
       "      <td>1528.805627</td>\n",
       "      <td>1563.258312</td>\n",
       "      <td>1607.250639</td>\n",
       "      <td>1675.754476</td>\n",
       "      <td>...</td>\n",
       "      <td>2003.260870</td>\n",
       "      <td>2084.033248</td>\n",
       "      <td>2181.291560</td>\n",
       "      <td>2275.976982</td>\n",
       "      <td>2370.322251</td>\n",
       "      <td>2382.652174</td>\n",
       "      <td>2338.409207</td>\n",
       "      <td>2266.040921</td>\n",
       "      <td>2144.682864</td>\n",
       "      <td>1961.473146</td>\n",
       "    </tr>\n",
       "  </tbody>\n",
       "</table>\n",
       "<p>7 rows × 24 columns</p>\n",
       "</div>"
      ],
      "text/plain": [
       "hour                  0            1            2            3            4   \\\n",
       "day_of_week                                                                    \n",
       "0            1787.370844  1665.664962  1585.537084  1540.099744  1527.156010   \n",
       "1            1834.751918  1707.769821  1624.227621  1575.035806  1557.913043   \n",
       "2            1842.317136  1716.507653  1630.395408  1578.890306  1560.045918   \n",
       "3            1840.693878  1711.357143  1626.477041  1573.244898  1555.010204   \n",
       "4            1834.704082  1711.844388  1628.742347  1575.617347  1555.609694   \n",
       "5            1849.426020  1722.897959  1631.367347  1571.576531  1538.387755   \n",
       "6            1808.137755  1689.263427  1603.112532  1545.475703  1513.115090   \n",
       "\n",
       "hour                  5            6            7            8            9   \\\n",
       "day_of_week                                                                    \n",
       "0            1562.526854  1659.583120  1792.959079  1882.974425  1930.358056   \n",
       "1            1590.457801  1686.475703  1832.393862  1920.529412  1957.092072   \n",
       "2            1591.209184  1686.936224  1832.923469  1920.334184  1959.272959   \n",
       "3            1585.053571  1679.806122  1823.594388  1909.989796  1947.252551   \n",
       "4            1584.890306  1674.897959  1812.926020  1896.198980  1940.316327   \n",
       "5            1537.681122  1567.846939  1623.920918  1667.451531  1741.816327   \n",
       "6            1507.938619  1528.805627  1563.258312  1607.250639  1675.754476   \n",
       "\n",
       "hour         ...           14           15           16           17  \\\n",
       "day_of_week  ...                                                       \n",
       "0            ...  2214.414322  2302.046036  2374.071611  2464.337596   \n",
       "1            ...  2233.723785  2310.447570  2390.127877  2477.485934   \n",
       "2            ...  2226.025510  2319.099490  2391.775510  2483.640306   \n",
       "3            ...  2208.673469  2287.961735  2374.928571  2447.183673   \n",
       "4            ...  2193.267857  2265.594388  2345.645408  2419.811224   \n",
       "5            ...  2031.102041  2098.711735  2178.931122  2270.880102   \n",
       "6            ...  2003.260870  2084.033248  2181.291560  2275.976982   \n",
       "\n",
       "hour                  18           19           20           21           22  \\\n",
       "day_of_week                                                                    \n",
       "0            2529.363171  2515.572890  2447.350384  2363.035806  2222.647059   \n",
       "1            2543.593350  2531.368286  2461.629156  2376.248082  2233.115090   \n",
       "2            2541.943878  2523.482143  2457.058673  2375.061224  2230.663265   \n",
       "3            2509.403061  2491.079082  2432.732143  2345.841837  2211.191327   \n",
       "4            2477.561224  2448.650510  2377.568878  2298.441327  2184.035714   \n",
       "5            2340.002551  2342.956633  2288.533163  2218.104592  2113.114796   \n",
       "6            2370.322251  2382.652174  2338.409207  2266.040921  2144.682864   \n",
       "\n",
       "hour                  23  \n",
       "day_of_week               \n",
       "0            2018.381074  \n",
       "1            2028.736573  \n",
       "2            2028.147959  \n",
       "3            2016.788265  \n",
       "4            2014.573980  \n",
       "5            1961.117347  \n",
       "6            1961.473146  \n",
       "\n",
       "[7 rows x 24 columns]"
      ]
     },
     "execution_count": 39,
     "metadata": {},
     "output_type": "execute_result"
    }
   ],
   "source": [
    "average_demand"
   ]
  },
  {
   "cell_type": "code",
   "execution_count": 96,
   "metadata": {},
   "outputs": [
    {
     "data": {
      "text/plain": [
       "day_name\n",
       "Monday       2264.577153\n",
       "Tuesday      2985.899936\n",
       "Wednesday    2620.871585\n",
       "Thursday     2049.528593\n",
       "Friday       3154.804528\n",
       "Saturday     3169.533482\n",
       "Sunday       1944.729782\n",
       "Name: Demand (MWh), dtype: float64"
      ]
     },
     "execution_count": 96,
     "metadata": {},
     "output_type": "execute_result"
    }
   ],
   "source": [
    "daily_means"
   ]
  },
  {
   "cell_type": "markdown",
   "metadata": {},
   "source": [
    "# Correlations"
   ]
  },
  {
   "cell_type": "code",
   "execution_count": null,
   "metadata": {},
   "outputs": [],
   "source": []
  }
 ],
 "metadata": {
  "kernelspec": {
   "display_name": "Python 3",
   "language": "python",
   "name": "python3"
  },
  "language_info": {
   "codemirror_mode": {
    "name": "ipython",
    "version": 3
   },
   "file_extension": ".py",
   "mimetype": "text/x-python",
   "name": "python",
   "nbconvert_exporter": "python",
   "pygments_lexer": "ipython3",
   "version": "3.7.3"
  },
  "toc": {
   "base_numbering": 1,
   "nav_menu": {},
   "number_sections": true,
   "sideBar": true,
   "skip_h1_title": false,
   "title_cell": "Table of Contents",
   "title_sidebar": "Contents",
   "toc_cell": false,
   "toc_position": {},
   "toc_section_display": true,
   "toc_window_display": false
  }
 },
 "nbformat": 4,
 "nbformat_minor": 2
}
